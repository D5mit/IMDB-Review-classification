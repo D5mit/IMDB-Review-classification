{
 "cells": [
  {
   "cell_type": "markdown",
   "metadata": {},
   "source": [
    "# Analyzing IMDB Data in Keras"
   ]
  },
  {
   "cell_type": "code",
   "execution_count": 51,
   "metadata": {},
   "outputs": [],
   "source": [
    "# Imports\n",
    "import numpy as np\n",
    "import keras\n",
    "from keras.datasets import imdb\n",
    "from keras.models import Sequential\n",
    "from keras.layers import Dense, Dropout, Activation\n",
    "from keras.preprocessing.text import Tokenizer\n",
    "import matplotlib.pyplot as plt\n",
    "%matplotlib inline\n",
    "\n",
    "np.random.seed(42)"
   ]
  },
  {
   "cell_type": "markdown",
   "metadata": {},
   "source": [
    "## 1. Loading the data\n",
    "This dataset comes preloaded with Keras, so one simple command will get us training and testing data. There is a parameter for how many words we want to look at. We've set it at 1000, but feel free to experiment."
   ]
  },
  {
   "cell_type": "code",
   "execution_count": 52,
   "metadata": {},
   "outputs": [
    {
     "name": "stdout",
     "output_type": "stream",
     "text": [
      "(25000,)\n",
      "(25000,)\n",
      "(25000,)\n",
      "(25000,)\n"
     ]
    }
   ],
   "source": [
    "# Loading the data (it's preloaded in Keras)\n",
    "(x_train, y_train), (x_test, y_test) = imdb.load_data(num_words=1000)\n",
    "\n",
    "# print(x_train[0])\n",
    "print(x_train.shape)\n",
    "print(y_train.shape)\n",
    "\n",
    "print(x_test.shape)\n",
    "print(y_test.shape)"
   ]
  },
  {
   "cell_type": "markdown",
   "metadata": {},
   "source": [
    "## 2. Examining the data\n",
    "Notice that the data has been already pre-processed, where all the words have numbers, and the reviews come in as a vector with the words that the review contains. For example, if the word 'the' is the first one in our dictionary, and a review contains the word 'the', then there is a 1 in the corresponding vector.\n",
    "\n",
    "The output comes as a vector of 1's and 0's, where 1 is a positive sentiment for the review, and 0 is negative."
   ]
  },
  {
   "cell_type": "code",
   "execution_count": 53,
   "metadata": {},
   "outputs": [
    {
     "name": "stdout",
     "output_type": "stream",
     "text": [
      "x_train first line:\n",
      "--------\n",
      "[1, 48, 25, 942, 72, 4, 86, 31, 16, 66, 128, 31, 168, 33, 2, 2, 2, 59, 9, 147, 384, 2, 250, 168, 33, 2, 2, 59, 9, 43, 117, 2, 2, 187, 59, 9, 164, 84, 92, 2, 41, 333, 2, 16, 2, 5, 893, 11, 86, 20, 150, 29, 9, 896, 393, 65, 9, 24, 15, 52, 5, 13, 81, 24, 391, 138, 161, 36, 97, 14, 31, 86, 12, 9, 4, 454, 2, 156, 164, 19, 65, 14, 9, 24, 2, 14, 9, 395, 86, 31, 47, 128, 156, 128, 65, 5, 94, 384, 13, 104, 15, 4, 228, 9, 128, 11, 2, 2, 300, 5, 4, 228, 9, 128, 11, 2, 2, 342, 12, 9, 24, 4, 249, 20, 13, 219, 21, 11, 2, 19, 86, 31, 94, 31, 194, 194, 194, 164]\n",
      "\n",
      "y_train first line:\n",
      "--------\n",
      "0\n",
      "- 0 is a negative review\n",
      "- 1 a possitive review\n"
     ]
    }
   ],
   "source": [
    "iline = 1\n",
    "print('x_train first line:')\n",
    "print('--------')\n",
    "x_itrain = x_train[iline]\n",
    "print(x_itrain)\n",
    "print('')\n",
    "print('y_train first line:')\n",
    "print('--------')\n",
    "y_itrain = y_train[iline]\n",
    "print(y_itrain)\n",
    "\n",
    "print('- 0 is a negative review')\n",
    "print('- 1 a possitive review')"
   ]
  },
  {
   "cell_type": "markdown",
   "metadata": {},
   "source": [
    "## 3. One-hot encoding the output\n",
    "Here, we'll turn the input vectors into (0,1)-vectors. For example, if the pre-processed vector contains the number 14, then in the processed vector, the 14th entry will be 1."
   ]
  },
  {
   "cell_type": "code",
   "execution_count": 54,
   "metadata": {},
   "outputs": [
    {
     "name": "stdout",
     "output_type": "stream",
     "text": [
      "[ 0.  1.  1.  0.  1.  1.  1.  1.  1.  1.  1.  1.  1.  1.  1.  1.  1.  1.\n",
      "  1.  1.  0.  1.  1.  1.  1.  0.  1.  1.  0.  1.  1.  0.  0.  1.  1.  1.\n",
      "  1.  1.  0.  1.  1.  0.  0.  0.  1.  0.  1.  1.  1.  1.  1.  0.  1.  0.\n",
      "  1.  1.  1.  0.  1.  0.  0.  1.  1.  0.  0.  1.  1.  0.  1.  1.  1.  0.\n",
      "  0.  0.  0.  0.  0.  1.  0.  1.  0.  0.  1.  0.  1.  0.  1.  0.  1.  0.\n",
      "  0.  0.  0.  1.  0.  0.  0.  0.  1.  0.  1.  1.  0.  0.  0.  0.  0.  1.\n",
      "  0.  0.  0.  0.  1.  0.  0.  0.  0.  1.  1.  0.  0.  1.  1.  1.  0.  1.\n",
      "  0.  1.  0.  0.  0.  0.  0.  1.  0.  0.  1.  0.  1.  0.  0.  0.  1.  0.\n",
      "  1.  0.  1.  0.  1.  0.  1.  0.  1.  0.  0.  0.  0.  1.  0.  1.  0.  0.\n",
      "  1.  0.  0.  0.  0.  1.  0.  1.  1.  0.  1.  0.  1.  0.  0.  1.  0.  0.\n",
      "  1.  0.  0.  0.  0.  0.  0.  1.  1.  0.  0.  0.  1.  0.  0.  0.  0.  0.\n",
      "  1.  0.  0.  0.  0.  0.  1.  1.  1.  0.  1.  0.  0.  0.  0.  0.  0.  0.\n",
      "  0.  1.  0.  0.  0.  0.  0.  0.  0.  1.  1.  0.  0.  0.  0.  0.  1.  0.\n",
      "  0.  0.  1.  0.  0.  0.  0.  0.  0.  1.  0.  0.  0.  0.  0.  0.  0.  0.\n",
      "  0.  0.  0.  0.  1.  0.  0.  1.  1.  0.  0.  0.  0.  0.  0.  0.  0.  1.\n",
      "  0.  0.  0.  1.  0.  0.  0.  0.  0.  0.  0.  0.  1.  0.  0.  0.  0.  0.\n",
      "  0.  0.  0.  1.  0.  0.  0.  0.  0.  0.  0.  1.  0.  0.  0.  1.  1.  0.\n",
      "  0.  0.  0.  0.  0.  0.  0.  0.  0.  0.  1.  0.  0.  1.  1.  0.  1.  0.\n",
      "  0.  0.  0.  0.  0.  1.  0.  0.  0.  0.  1.  0.  0.  0.  0.  0.  0.  0.\n",
      "  0.  1.  0.  0.  0.  0.  0.  0.  0.  1.  0.  0.  0.  0.  0.  0.  0.  0.\n",
      "  0.  1.  0.  0.  0.  0.  0.  0.  0.  0.  0.  0.  0.  0.  0.  0.  0.  0.\n",
      "  0.  0.  0.  0.  0.  0.  0.  1.  0.  0.  0.  0.  0.  0.  1.  0.  0.  1.\n",
      "  0.  0.  0.  0.  0.  1.  0.  0.  0.  0.  0.  0.  0.  0.  0.  0.  0.  1.\n",
      "  0.  0.  0.  0.  0.  0.  0.  0.  0.  0.  0.  0.  1.  0.  0.  0.  0.  0.\n",
      "  0.  0.  0.  0.  0.  0.  0.  0.  0.  0.  0.  0.  0.  0.  0.  0.  0.  0.\n",
      "  0.  0.  0.  0.  0.  0.  0.  0.  0.  0.  0.  0.  0.  0.  0.  0.  0.  0.\n",
      "  0.  0.  0.  0.  0.  0.  0.  0.  0.  0.  0.  0.  0.  0.  0.  0.  0.  0.\n",
      "  0.  0.  0.  0.  0.  0.  0.  1.  0.  0.  0.  0.  0.  0.  0.  0.  0.  0.\n",
      "  0.  0.  0.  1.  0.  0.  0.  0.  0.  0.  1.  0.  0.  1.  0.  0.  0.  0.\n",
      "  0.  0.  0.  0.  0.  0.  0.  0.  0.  1.  0.  0.  0.  0.  0.  0.  0.  0.\n",
      "  0.  0.  1.  0.  0.  0.  0.  0.  0.  0.  0.  0.  0.  0.  0.  1.  0.  0.\n",
      "  0.  0.  0.  0.  0.  0.  0.  0.  0.  0.  1.  0.  0.  0.  0.  0.  0.  1.\n",
      "  0.  0.  0.  0.  0.  0.  0.  0.  0.  0.  0.  0.  0.  0.  1.  0.  0.  0.\n",
      "  0.  0.  0.  0.  0.  0.  0.  0.  1.  0.  0.  0.  0.  0.  0.  0.  0.  0.\n",
      "  1.  0.  0.  0.  0.  0.  0.  0.  0.  0.  0.  0.  0.  0.  0.  0.  0.  0.\n",
      "  0.  0.  0.  0.  0.  0.  0.  0.  0.  0.  0.  0.  0.  0.  0.  0.  0.  0.\n",
      "  0.  0.  0.  0.  0.  0.  0.  0.  0.  0.  0.  0.  0.  0.  0.  0.  0.  1.\n",
      "  0.  0.  0.  0.  0.  0.  0.  0.  0.  0.  0.  0.  0.  0.  0.  0.  0.  0.\n",
      "  0.  0.  0.  0.  0.  0.  0.  0.  0.  0.  0.  0.  0.  0.  0.  0.  0.  0.\n",
      "  0.  0.  0.  0.  0.  0.  0.  0.  0.  0.  0.  0.  0.  0.  0.  0.  1.  0.\n",
      "  0.  0.  0.  1.  0.  0.  0.  0.  0.  1.  0.  0.  0.  0.  0.  1.  0.  0.\n",
      "  0.  0.  0.  0.  0.  0.  0.  1.  0.  0.  0.  0.  0.  0.  0.  0.  0.  0.\n",
      "  0.  1.  0.  0.  0.  0.  1.  0.  0.  0.  0.  0.  0.  0.  0.  0.  0.  0.\n",
      "  0.  0.  0.  0.  0.  0.  0.  1.  0.  0.  0.  1.  0.  0.  0.  0.  0.  0.\n",
      "  0.  0.  0.  0.  0.  0.  0.  0.  0.  0.  0.  0.  0.  0.  0.  0.  0.  0.\n",
      "  0.  0.  0.  0.  0.  0.  0.  0.  0.  0.  0.  0.  0.  0.  0.  0.  0.  0.\n",
      "  1.  0.  0.  0.  0.  0.  0.  0.  0.  0.  0.  0.  0.  0.  0.  0.  0.  0.\n",
      "  0.  0.  0.  0.  0.  0.  0.  0.  0.  0.  0.  1.  0.  0.  0.  0.  0.  0.\n",
      "  0.  0.  0.  0.  0.  0.  0.  0.  0.  0.  0.  0.  0.  0.  0.  0.  0.  1.\n",
      "  0.  0.  0.  0.  0.  0.  0.  0.  0.  0.  0.  0.  0.  0.  0.  0.  0.  0.\n",
      "  0.  0.  0.  0.  0.  0.  0.  0.  0.  0.  0.  0.  0.  0.  0.  0.  0.  0.\n",
      "  0.  0.  0.  0.  0.  0.  0.  0.  0.  0.  0.  0.  0.  0.  0.  0.  1.  0.\n",
      "  0.  0.  0.  0.  0.  0.  0.  0.  0.  0.  0.  0.  0.  0.  0.  0.  0.  0.\n",
      "  0.  0.  0.  0.  0.  0.  0.  0.  0.  0.  0.  0.  0.  0.  0.  0.  0.  0.\n",
      "  0.  0.  0.  0.  0.  0.  0.  0.  0.  0.  0.  0.  0.  0.  0.  0.  0.  0.\n",
      "  0.  0.  0.  0.  0.  0.  0.  0.  0.  0.]\n"
     ]
    }
   ],
   "source": [
    "# One-hot encoding the output into vector mode, each of length 1000\n",
    "tokenizer = Tokenizer(num_words=1000)\n",
    "x_train = tokenizer.sequences_to_matrix(x_train, mode='binary')\n",
    "x_test = tokenizer.sequences_to_matrix(x_test, mode='binary')\n",
    "print(x_train[0])"
   ]
  },
  {
   "cell_type": "markdown",
   "metadata": {},
   "source": [
    "And we'll also one-hot encode the output."
   ]
  },
  {
   "cell_type": "code",
   "execution_count": 55,
   "metadata": {},
   "outputs": [],
   "source": [
    "# One-hot encoding the output\n",
    "num_classes = 2\n",
    "y_train = keras.utils.to_categorical(y_train, num_classes)\n",
    "y_test = keras.utils.to_categorical(y_test, num_classes)\n"
   ]
  },
  {
   "cell_type": "markdown",
   "metadata": {},
   "source": [
    "## 4. Building the  model architecture\n",
    "Build a model here using sequential. Feel free to experiment with different layers and sizes! Also, experiment adding dropout to reduce overfitting.\n",
    "In for example x_train.shape -> (25000, 1000), the 25000 is the number if training example and the 1000 is the number of features."
   ]
  },
  {
   "cell_type": "code",
   "execution_count": 56,
   "metadata": {},
   "outputs": [
    {
     "name": "stdout",
     "output_type": "stream",
     "text": [
      "(25000, 1000)\n",
      "(25000, 2)\n"
     ]
    }
   ],
   "source": [
    "print(x_train.shape)\n",
    "print(y_train.shape)\n"
   ]
  },
  {
   "cell_type": "code",
   "execution_count": 57,
   "metadata": {},
   "outputs": [
    {
     "name": "stdout",
     "output_type": "stream",
     "text": [
      "(25000, 1000)\n",
      "(25000, 2)\n"
     ]
    }
   ],
   "source": [
    "# TODO: Build the model architecture\n",
    "print(x_train.shape)\n",
    "print(y_train.shape)\n",
    "\n",
    "model = Sequential()\n",
    "model.add(Dense(126, activation='sigmoid', input_shape=(1000,)))\n",
    "model.add(Dropout(.2))\n",
    "model.add(Dense(126, activation='sigmoid'))          # Add one hidden layer\n",
    "model.add(Dropout(.2))\n",
    "model.add(Dense(126, activation='relu'))          # Add one hidden layer\n",
    "model.add(Dropout(.2))\n",
    "model.add(Dense(64, activation='relu'))          # Add one hidden layer\n",
    "model.add(Dense(2, activation='softmax'))        # Add an output layer     //\n",
    "\n",
    "# TODO: Compile the model using a loss function and an optimizer.\n",
    "# model.compile(loss='categorical_crossentropy', optimizer='adam', metrics=['accuracy'])\n",
    "# model.compile(loss = 'mean_squared_error', optimizer='rmsprop', metrics=['accuracy'])\n",
    "model.compile(loss = 'mean_squared_error', optimizer='adam', metrics=['accuracy'])\n"
   ]
  },
  {
   "cell_type": "markdown",
   "metadata": {},
   "source": [
    "## 5. Training the model\n",
    "Run the model here. Experiment with different batch_size, and number of epochs!"
   ]
  },
  {
   "cell_type": "code",
   "execution_count": 58,
   "metadata": {},
   "outputs": [
    {
     "name": "stdout",
     "output_type": "stream",
     "text": [
      "Train on 22500 samples, validate on 2500 samples\n",
      "Epoch 1/16\n",
      "22500/22500 [==============================] - 5s 238us/step - loss: 0.1581 - acc: 0.7550 - val_loss: 0.0965 - val_acc: 0.8724\n",
      "Epoch 2/16\n",
      "22500/22500 [==============================] - 5s 224us/step - loss: 0.1055 - acc: 0.8527 - val_loss: 0.0967 - val_acc: 0.8672\n",
      "Epoch 3/16\n",
      "22500/22500 [==============================] - 5s 230us/step - loss: 0.0998 - acc: 0.8636 - val_loss: 0.0970 - val_acc: 0.8672\n",
      "Epoch 4/16\n",
      "22500/22500 [==============================] - 5s 225us/step - loss: 0.0964 - acc: 0.8691 - val_loss: 0.0961 - val_acc: 0.8724\n",
      "Epoch 5/16\n",
      "22500/22500 [==============================] - 5s 226us/step - loss: 0.0943 - acc: 0.8732 - val_loss: 0.0967 - val_acc: 0.8696\n",
      "Epoch 6/16\n",
      "22500/22500 [==============================] - 5s 229us/step - loss: 0.0920 - acc: 0.8772 - val_loss: 0.1006 - val_acc: 0.8632\n",
      "Epoch 7/16\n",
      "22500/22500 [==============================] - 5s 223us/step - loss: 0.0907 - acc: 0.8782 - val_loss: 0.0990 - val_acc: 0.8672\n",
      "Epoch 8/16\n",
      "22500/22500 [==============================] - 5s 222us/step - loss: 0.0893 - acc: 0.8816 - val_loss: 0.0983 - val_acc: 0.8660\n",
      "Epoch 9/16\n",
      "22500/22500 [==============================] - 5s 226us/step - loss: 0.0875 - acc: 0.8828 - val_loss: 0.0986 - val_acc: 0.8604\n",
      "Epoch 10/16\n",
      "22500/22500 [==============================] - 5s 204us/step - loss: 0.0857 - acc: 0.8860 - val_loss: 0.0997 - val_acc: 0.8660\n",
      "Epoch 11/16\n",
      "22500/22500 [==============================] - 5s 202us/step - loss: 0.0832 - acc: 0.8900 - val_loss: 0.1020 - val_acc: 0.8604\n",
      "Epoch 12/16\n",
      "22500/22500 [==============================] - 5s 214us/step - loss: 0.0810 - acc: 0.8925 - val_loss: 0.1015 - val_acc: 0.8644\n",
      "Epoch 13/16\n",
      "22500/22500 [==============================] - 5s 212us/step - loss: 0.0778 - acc: 0.8963 - val_loss: 0.1053 - val_acc: 0.8660\n",
      "Epoch 14/16\n",
      "22500/22500 [==============================] - 5s 218us/step - loss: 0.0745 - acc: 0.9003 - val_loss: 0.1043 - val_acc: 0.8640\n",
      "Epoch 15/16\n",
      "22500/22500 [==============================] - 5s 208us/step - loss: 0.0719 - acc: 0.9042 - val_loss: 0.1149 - val_acc: 0.8560\n",
      "Epoch 16/16\n",
      "22500/22500 [==============================] - 5s 204us/step - loss: 0.0689 - acc: 0.9085 - val_loss: 0.1058 - val_acc: 0.8652\n",
      "dict_keys(['val_loss', 'val_acc', 'loss', 'acc'])\n"
     ]
    }
   ],
   "source": [
    "# TODO: Run the model. Feel free to experiment with different batch sizes and number of epochs.\n",
    "history = model.fit(x_train, y_train, validation_split=0.10, batch_size=50, epochs=16, verbose=1)\n",
    "# history = model.fit(x_train, y_train, batch_size=50, epochs=16, verbose=1)\n",
    "\n",
    "print(history.history.keys())"
   ]
  },
  {
   "cell_type": "code",
   "execution_count": 59,
   "metadata": {},
   "outputs": [
    {
     "data": {
      "image/png": "[encoded data removed]",
      "text/plain": [
       "<matplotlib.figure.Figure at 0x7fac85fa2d30>"
      ]
     },
     "metadata": {
      "needs_background": "light"
     },
     "output_type": "display_data"
    },
    {
     "data": {
      "image/png": "[encoded data removed]",
      "text/plain": [
       "<matplotlib.figure.Figure at 0x7fac85fb7550>"
      ]
     },
     "metadata": {
      "needs_background": "light"
     },
     "output_type": "display_data"
    }
   ],
   "source": [
    "import matplotlib.pyplot as plt\n",
    "# summarize history for accuracy\n",
    "plt.plot(history.history['acc'])\n",
    "plt.plot(history.history['val_acc'])\n",
    "plt.title('model accuracy')\n",
    "plt.ylabel('accuracy')\n",
    "plt.xlabel('epoch')\n",
    "plt.legend(['train', 'test'], loc='upper left')\n",
    "plt.show()\n",
    "# summarize history for loss\n",
    "plt.plot(history.history['loss'])\n",
    "plt.plot(history.history['val_loss'])\n",
    "plt.title('model loss')\n",
    "plt.ylabel('loss')\n",
    "plt.xlabel('epoch')\n",
    "plt.legend(['train', 'test'], loc='upper left')\n",
    "plt.show()"
   ]
  },
  {
   "cell_type": "markdown",
   "metadata": {},
   "source": [
    "## 6. Evaluating the model\n",
    "This will give you the accuracy of the model, as evaluated on the testing set. Can you get something over 85%?"
   ]
  },
  {
   "cell_type": "code",
   "execution_count": 60,
   "metadata": {},
   "outputs": [
    {
     "name": "stdout",
     "output_type": "stream",
     "text": [
      "Accuracy:  0.85388\n"
     ]
    }
   ],
   "source": [
    "score = model.evaluate(x_test, y_test, verbose=0)\n",
    "print(\"Accuracy: \", score[1])"
   ]
  },
  {
   "cell_type": "markdown",
   "metadata": {},
   "source": [
    "## 7. Test the model\n",
    "\n",
    "Test the model by entering text and predicting if it is for a favorable review. \n",
    "\n",
    "### a. First step, enter the review:"
   ]
  },
  {
   "cell_type": "code",
   "execution_count": 61,
   "metadata": {
    "scrolled": true
   },
   "outputs": [
    {
     "name": "stdout",
     "output_type": "stream",
     "text": [
      "['this', 'is', 'the', 'best', 'movie', 'i', 'have', 'ever', 'seen', 'it', 'was', 'awesome']\n"
     ]
    }
   ],
   "source": [
    "import re\n",
    "\n",
    "movie_review = 'This is the best movie I have ever seen.  It was awesome.'\n",
    "\n",
    "# convert to lowercase\n",
    "movie_review = movie_review.lower()\n",
    "words = re.sub(\"[^\\w]\", \" \",  movie_review).split()\n",
    "print(words)\n",
    "\n"
   ]
  },
  {
   "cell_type": "markdown",
   "metadata": {
    "scrolled": true
   },
   "source": [
    "### b. Prepare the word to id and id to word information."
   ]
  },
  {
   "cell_type": "code",
   "execution_count": 62,
   "metadata": {},
   "outputs": [],
   "source": [
    "NUM_WORDS=1000 # only use top 1000 words\n",
    "INDEX_FROM=3   # word index offset\n",
    "\n",
    "word_to_id = imdb.get_word_index()\n",
    "word_to_id = {k:(v+INDEX_FROM) for k,v in word_to_id.items()}\n",
    "word_to_id[\"<PAD>\"] = 0\n",
    "word_to_id[\"<START>\"] = 1\n",
    "word_to_id[\"<UNK>\"] = 2\n",
    "id_to_word = {value:key for key,value in word_to_id.items()}"
   ]
  },
  {
   "cell_type": "markdown",
   "metadata": {},
   "source": [
    "### c. Take the word inputs and vectorise it.  \n",
    "The input is the list of words save in <b>words</b>."
   ]
  },
  {
   "cell_type": "code",
   "execution_count": 65,
   "metadata": {},
   "outputs": [
    {
     "name": "stdout",
     "output_type": "stream",
     "text": [
      "1/1 [==============================] - 0s 2ms/step\n",
      "[[ 0.08271491  0.91728508]]\n",
      "\n",
      "Review\n",
      "------\n",
      "this is the best movie i have ever seen.  it was awesome.\n",
      "\n",
      "Classification (Possitive or negative)\n",
      "------\n",
      "a possitive review\n"
     ]
    }
   ],
   "source": [
    "# this code is commented out, you can also load text from the training data\n",
    "# words = [id_to_word[id] for id in x_itrain]\n",
    "\n",
    "\n",
    "x_ireview = [[word_to_id.get(i, \"?\") for i in words]]\n",
    "\n",
    "# print(x_ireview)\n",
    "x_predict = np.array([np.zeros(1000)])\n",
    "x_predict = tokenizer.sequences_to_matrix(x_ireview, mode='binary')\n",
    "# print(x_predict)\n",
    "\n",
    "ynew = model.predict_proba(x_predict)\n",
    "\n",
    "print(ynew)\n",
    "\n",
    "prednr = np.argmax(ynew)\n",
    "\n",
    "print('')\n",
    "print('Review')\n",
    "print('------')\n",
    "print(movie_review)\n",
    "\n",
    "print('')\n",
    "print('Classification (Possitive or negative)')\n",
    "print('------')\n",
    "if prednr == 0:\n",
    "    print('a negative review')\n",
    "else:\n",
    "    print('a possitive review')\n",
    "    \n"
   ]
  },
  {
   "cell_type": "code",
   "execution_count": null,
   "metadata": {},
   "outputs": [],
   "source": []
  }
 ],
 "metadata": {
  "kernelspec": {
   "display_name": "Python 3",
   "language": "python",
   "name": "python3"
  },
  "language_info": {
   "codemirror_mode": {
    "name": "ipython",
    "version": 3
   },
   "file_extension": ".py",
   "mimetype": "text/x-python",
   "name": "python",
   "nbconvert_exporter": "python",
   "pygments_lexer": "ipython3",
   "version": "3.6.3"
  }
 },
 "nbformat": 4,
 "nbformat_minor": 2
}
